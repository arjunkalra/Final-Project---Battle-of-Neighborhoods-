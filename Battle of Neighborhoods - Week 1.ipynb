{
 "cells": [
  {
   "cell_type": "markdown",
   "metadata": {
    "collapsed": true
   },
   "source": [
    "# The Battle of Neighborhoods Project"
   ]
  },
  {
   "cell_type": "markdown",
   "metadata": {},
   "source": [
    "## Introduction:"
   ]
  },
  {
   "cell_type": "markdown",
   "metadata": {},
   "source": [
    "#### This Project can be considered an extention of what we have already been working on and is going to help people finding the best neighborhoods in Toronto, Canada. It is the most populous city in Canada and the largest urban and metro area, with a population density of 4,149.5 people per square kilometer (World population review). So, clearly alot of people move to this city every year and providing them with the results of this project is going to help them decide on the best neighborhood in toronto area. The analysis of this project is going to include the density and availability of schools, cafes, grocery shops, supermarkets, hospitals, malls etc.\n",
    "\n",
    "#### This project is aimed at creating a detailed analysis report of the neighborhoods in toronto to help people with moving to toronto. The features will include median housing prices and better schools according to ratings, crime rates of that particular area, road connectivity, weather conditions, good management for emergency, water resources and recreational facilities."
   ]
  },
  {
   "cell_type": "markdown",
   "metadata": {},
   "source": [
    "## Problems that are assesed in this project:"
   ]
  },
  {
   "cell_type": "markdown",
   "metadata": {},
   "source": [
    "#### The major purpose of this project, is to suggest a better neighborhood in a the city of Toronto, social presence in society in terms of like minded people, connectivity to the airport, bus stand, city center, markets, and proximity of other daily needs things.\n",
    "\n",
    "#### > Sorted list of house in terms of housing prices in a ascending or descending order\n",
    "#### > Sorted list of schools in terms of location, fees, rating and reviews"
   ]
  },
  {
   "cell_type": "markdown",
   "metadata": {},
   "source": [
    "## Libraries and resources:"
   ]
  },
  {
   "cell_type": "markdown",
   "metadata": {},
   "source": [
    "### The Location:\n",
    "#### Scarborough is turing to be a popular destination for new immigrants. As a result, it is one of the most diverse and multicultural areas in the Greater Toronto Area, being home to various religious groups and places of worships. Although immigration has become a hot topic over the past few years with more governments seeking more restrictions on immigrants and refugees, the general trend of immigration into Canada has been on the rise.\n",
    "\n",
    "### Foursquare API:\n",
    "#### We'll be using the foursqure API because of it's huge database and the features it has which will help ease the search and analysis of neighborhoods.\n",
    "\n",
    "### Work Flow:\n",
    "#### Using credentials of Foursquare API features of near-by places of the neighborhoods would be mined. Due to http request limitations the number of places per neighborhood parameter would reasonably be set to 100 and the radius parameter would be set to 500.\n",
    "\n",
    "### Clustering Approach:\n",
    "#### To compare the similarities of two cities, we decided to explore neighborhoods, segment them, and group them into clusters to find similar neighborhoods in a big city like New York and Toronto. To be able to do that, we need to cluster data which is a form of unsupervised machine learning: k-means clustering algorithm\n",
    "\n",
    "### Libraries Which are Used to Develope the Project:\n",
    "\n",
    "#### Pandas: For creating and manipulating dataframes.\n",
    "\n",
    "#### Folium: Python visualization library would be used to visualize the neighborhoods cluster distribution of using interactive leaflet map.\n",
    "\n",
    "#### Scikit Learn: For importing k-means clustering.\n",
    "\n",
    "#### JSON: Library to handle JSON files.\n",
    "\n",
    "#### XML: To separate data from presentation and XML stores data in plain text format.\n",
    "\n",
    "#### Geocoder: To retrieve Location Data.\n",
    "\n",
    "#### Beautiful Soup and Requests: To scrap data and library to handle http requests.\n",
    "\n",
    "#### Matplotlib: Python Plotting Module."
   ]
  },
  {
   "cell_type": "markdown",
   "metadata": {},
   "source": [
    "## Data Soruce\n",
    "\n",
    "#### We will use the dataset of week 3. \n",
    "\n",
    "#### Link: https://en.wikipedia.org/wiki/List_of_postal_codes_of_Canada:_M"
   ]
  },
  {
   "cell_type": "markdown",
   "metadata": {},
   "source": [
    "## Foursquare API:\n",
    "\n",
    "#### We will need data about different venues in different neighborhoods of that specific borough. In order to gain that information we will use \"Foursquare\" locational information. Foursquare is a location data provider with information about all manner of venues and events within an area of interest. Such information includes venue names, locations, menus and even photos. As such, the foursquare location platform will be used as the sole data source since all the stated required information can be obtained through the API.\n",
    "\n",
    "#### After finding the list of neighborhoods, we then connect to the Foursquare API to gather information about venues inside each and every neighborhood and the radius is limited to 100 mts.\n",
    "\n",
    "#### The following data is retrieved from Foursquare API: \n",
    "\n",
    "#### 1. Neighborhood\n",
    "#### 2. Neighborhood Latitude\n",
    "#### 3. Neighborhood Longitude\n",
    "#### 4. Venue and Name\n",
    "#### 5. Venue Latitude\n",
    "#### 6. Venue Longitude\n",
    "#### 7. Venue Category"
   ]
  },
  {
   "cell_type": "code",
   "execution_count": null,
   "metadata": {},
   "outputs": [],
   "source": []
  }
 ],
 "metadata": {
  "kernelspec": {
   "display_name": "Python 3.6",
   "language": "python",
   "name": "python3"
  },
  "language_info": {
   "codemirror_mode": {
    "name": "ipython",
    "version": 3
   },
   "file_extension": ".py",
   "mimetype": "text/x-python",
   "name": "python",
   "nbconvert_exporter": "python",
   "pygments_lexer": "ipython3",
   "version": "3.6.9"
  }
 },
 "nbformat": 4,
 "nbformat_minor": 1
}
